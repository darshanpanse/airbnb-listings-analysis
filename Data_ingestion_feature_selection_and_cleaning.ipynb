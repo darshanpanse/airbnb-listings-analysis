{
 "cells": [
  {
   "cell_type": "code",
   "execution_count": 2,
   "metadata": {},
   "outputs": [],
   "source": [
    "import pandas as pd\n",
    "import json"
   ]
  },
  {
   "cell_type": "code",
   "execution_count": 6,
   "metadata": {},
   "outputs": [
    {
     "name": "stderr",
     "output_type": "stream",
     "text": [
      "C:\\Users\\darsh\\Anaconda3\\lib\\site-packages\\IPython\\core\\interactiveshell.py:2698: DtypeWarning: Columns (40,66) have mixed types. Specify dtype option on import or set low_memory=False.\n",
      "  interactivity=interactivity, compiler=compiler, result=result)\n"
     ]
    },
    {
     "data": {
      "text/plain": [
       "Features\n",
       "Host Has Profile Pic                                                                                                                                               3739\n",
       "Host Has Profile Pic,Host Identity Verified                                                                                                                        6213\n",
       "Host Has Profile Pic,Host Identity Verified,Instant Bookable                                                                                                       1785\n",
       "Host Has Profile Pic,Host Identity Verified,Instant Bookable,Require Guest Phone Verification                                                                        10\n",
       "Host Has Profile Pic,Host Identity Verified,Instant Bookable,Require Guest Profile Picture                                                                            1\n",
       "Host Has Profile Pic,Host Identity Verified,Instant Bookable,Require Guest Profile Picture,Require Guest Phone Verification                                           8\n",
       "Host Has Profile Pic,Host Identity Verified,Is Location Exact                                                                                                     32197\n",
       "Host Has Profile Pic,Host Identity Verified,Is Location Exact,Instant Bookable                                                                                     8259\n",
       "Host Has Profile Pic,Host Identity Verified,Is Location Exact,Instant Bookable,Require Guest Phone Verification                                                     113\n",
       "Host Has Profile Pic,Host Identity Verified,Is Location Exact,Instant Bookable,Require Guest Profile Picture                                                         28\n",
       "Host Has Profile Pic,Host Identity Verified,Is Location Exact,Instant Bookable,Require Guest Profile Picture,Require Guest Phone Verification                       182\n",
       "Host Has Profile Pic,Host Identity Verified,Is Location Exact,Require Guest Phone Verification                                                                      594\n",
       "Host Has Profile Pic,Host Identity Verified,Is Location Exact,Require Guest Profile Picture                                                                         163\n",
       "Host Has Profile Pic,Host Identity Verified,Is Location Exact,Require Guest Profile Picture,Require Guest Phone Verification                                       1178\n",
       "Host Has Profile Pic,Host Identity Verified,Is Location Exact,Requires License                                                                                     4092\n",
       "Host Has Profile Pic,Host Identity Verified,Is Location Exact,Requires License,Instant Bookable                                                                    1799\n",
       "Host Has Profile Pic,Host Identity Verified,Is Location Exact,Requires License,Instant Bookable,Require Guest Phone Verification                                     12\n",
       "Host Has Profile Pic,Host Identity Verified,Is Location Exact,Requires License,Instant Bookable,Require Guest Profile Picture,Require Guest Phone Verification       24\n",
       "Host Has Profile Pic,Host Identity Verified,Is Location Exact,Requires License,Require Guest Phone Verification                                                      77\n",
       "Host Has Profile Pic,Host Identity Verified,Is Location Exact,Requires License,Require Guest Profile Picture                                                         13\n",
       "Host Has Profile Pic,Host Identity Verified,Is Location Exact,Requires License,Require Guest Profile Picture,Require Guest Phone Verification                       194\n",
       "Host Has Profile Pic,Host Identity Verified,Require Guest Phone Verification                                                                                         24\n",
       "Host Has Profile Pic,Host Identity Verified,Require Guest Profile Picture                                                                                            13\n",
       "Host Has Profile Pic,Host Identity Verified,Require Guest Profile Picture,Require Guest Phone Verification                                                          104\n",
       "Host Has Profile Pic,Host Identity Verified,Requires License                                                                                                        797\n",
       "Host Has Profile Pic,Host Identity Verified,Requires License,Instant Bookable                                                                                       304\n",
       "Host Has Profile Pic,Host Identity Verified,Requires License,Instant Bookable,Require Guest Phone Verification                                                        1\n",
       "Host Has Profile Pic,Host Identity Verified,Requires License,Instant Bookable,Require Guest Profile Picture,Require Guest Phone Verification                          4\n",
       "Host Has Profile Pic,Host Identity Verified,Requires License,Require Guest Phone Verification                                                                         4\n",
       "Host Has Profile Pic,Host Identity Verified,Requires License,Require Guest Profile Picture,Require Guest Phone Verification                                          16\n",
       "                                                                                                                                                                  ...  \n",
       "Host Is Superhost,Host Has Profile Pic,Is Location Exact                                                                                                           1237\n",
       "Host Is Superhost,Host Has Profile Pic,Is Location Exact,Instant Bookable                                                                                           526\n",
       "Host Is Superhost,Host Has Profile Pic,Is Location Exact,Instant Bookable,Require Guest Phone Verification                                                            6\n",
       "Host Is Superhost,Host Has Profile Pic,Is Location Exact,Instant Bookable,Require Guest Profile Picture,Require Guest Phone Verification                              3\n",
       "Host Is Superhost,Host Has Profile Pic,Is Location Exact,Require Guest Phone Verification                                                                            13\n",
       "Host Is Superhost,Host Has Profile Pic,Is Location Exact,Require Guest Profile Picture                                                                                2\n",
       "Host Is Superhost,Host Has Profile Pic,Is Location Exact,Require Guest Profile Picture,Require Guest Phone Verification                                              35\n",
       "Host Is Superhost,Host Has Profile Pic,Is Location Exact,Requires License                                                                                           325\n",
       "Host Is Superhost,Host Has Profile Pic,Is Location Exact,Requires License,Instant Bookable                                                                          212\n",
       "Host Is Superhost,Host Has Profile Pic,Is Location Exact,Requires License,Instant Bookable,Require Guest Profile Picture,Require Guest Phone Verification             1\n",
       "Host Is Superhost,Host Has Profile Pic,Is Location Exact,Requires License,Require Guest Phone Verification                                                            4\n",
       "Host Is Superhost,Host Has Profile Pic,Is Location Exact,Requires License,Require Guest Profile Picture,Require Guest Phone Verification                              5\n",
       "Host Is Superhost,Host Has Profile Pic,Require Guest Phone Verification                                                                                               2\n",
       "Host Is Superhost,Host Has Profile Pic,Requires License                                                                                                              70\n",
       "Host Is Superhost,Host Has Profile Pic,Requires License,Instant Bookable                                                                                             39\n",
       "Host Is Superhost,Host Has Profile Pic,Requires License,Require Guest Profile Picture,Require Guest Phone Verification                                                1\n",
       "Host Is Superhost,Is Location Exact                                                                                                                                   2\n",
       "Host Is Superhost,Is Location Exact,Instant Bookable                                                                                                                  2\n",
       "Host Is Superhost,Is Location Exact,Requires License                                                                                                                  1\n",
       "Instant Bookable                                                                                                                                                     18\n",
       "Is Location Exact                                                                                                                                                   334\n",
       "Is Location Exact,Instant Bookable                                                                                                                                  109\n",
       "Is Location Exact,Instant Bookable,Require Guest Profile Picture,Require Guest Phone Verification                                                                     3\n",
       "Is Location Exact,Require Guest Phone Verification                                                                                                                    2\n",
       "Is Location Exact,Require Guest Profile Picture,Require Guest Phone Verification                                                                                      6\n",
       "Is Location Exact,Requires License                                                                                                                                   11\n",
       "Is Location Exact,Requires License,Instant Bookable                                                                                                                  19\n",
       "Require Guest Profile Picture,Require Guest Phone Verification                                                                                                        1\n",
       "Requires License                                                                                                                                                      6\n",
       "Requires License,Instant Bookable                                                                                                                                     4\n",
       "Name: Features, Length: 121, dtype: int64"
      ]
     },
     "execution_count": 6,
     "metadata": {},
     "output_type": "execute_result"
    }
   ],
   "source": [
    "airbnb_df = pd.read_csv('airbnb-listings-us.csv', sep=';')\n",
    "airbnb_df.groupby(['Features'])['Features'].count()"
   ]
  },
  {
   "cell_type": "code",
   "execution_count": 46,
   "metadata": {},
   "outputs": [
    {
     "data": {
      "text/plain": [
       "43"
      ]
     },
     "execution_count": 46,
     "metadata": {},
     "output_type": "execute_result"
    }
   ],
   "source": [
    "airbnb_df['Availability 90'][0]"
   ]
  },
  {
   "cell_type": "code",
   "execution_count": 4,
   "metadata": {},
   "outputs": [
    {
     "name": "stdout",
     "output_type": "stream",
     "text": [
      "['Host Neighbourhood', 'Host Location', 'Host Since', 'Host Response Time', 'Host Acceptance Rate', 'Host Total Listings', 'Host Verifications', 'Property Type', 'Room Type', 'Accommodates', 'Bathrooms', 'Bedrooms', 'Beds', 'Bed Type', 'Amenities', 'Square Feet', 'Price', 'Weekly Price', 'Monthly Price', 'Security Deposit', 'Cleaning Fee', 'Guests Included', 'Extra People', 'Minimum Nights', 'Maximum Nights', 'Calendar Updated', 'Availability 30', 'Availability 60', 'Availability 90', 'Availability 365']\n"
     ]
    }
   ],
   "source": [
    "with open('features/features.json') as f:\n",
    "    data = json.load(f)\n",
    "    print(data['selected_features'])"
   ]
  },
  {
   "cell_type": "code",
   "execution_count": 34,
   "metadata": {},
   "outputs": [
    {
     "data": {
      "text/plain": [
       "Availability 30\n",
       "0     44015\n",
       "1      4261\n",
       "2      3768\n",
       "3      3606\n",
       "4      3701\n",
       "5      3510\n",
       "6      3311\n",
       "7      3154\n",
       "8      3126\n",
       "9      2872\n",
       "10     2820\n",
       "11     2579\n",
       "12     2589\n",
       "13     2555\n",
       "14     2330\n",
       "15     2273\n",
       "16     2230\n",
       "17     2217\n",
       "18     2045\n",
       "19     2086\n",
       "20     1994\n",
       "21     1827\n",
       "22     1794\n",
       "23     2281\n",
       "24     1811\n",
       "25     1766\n",
       "26     1829\n",
       "27     2320\n",
       "28     2786\n",
       "29     5683\n",
       "30    11406\n",
       "Name: Availability 30, dtype: int64"
      ]
     },
     "execution_count": 34,
     "metadata": {},
     "output_type": "execute_result"
    }
   ],
   "source": [
    "airbnb_df.groupby([\"Availability 30\"])[\"Availability 30\"].count()"
   ]
  },
  {
   "cell_type": "code",
   "execution_count": null,
   "metadata": {
    "collapsed": true
   },
   "outputs": [],
   "source": []
  }
 ],
 "metadata": {
  "kernelspec": {
   "display_name": "Python 3",
   "language": "python",
   "name": "python3"
  },
  "language_info": {
   "codemirror_mode": {
    "name": "ipython",
    "version": 3
   },
   "file_extension": ".py",
   "mimetype": "text/x-python",
   "name": "python",
   "nbconvert_exporter": "python",
   "pygments_lexer": "ipython3",
   "version": "3.6.3"
  }
 },
 "nbformat": 4,
 "nbformat_minor": 2
}
